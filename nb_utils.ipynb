{
 "cells": [
  {
   "cell_type": "code",
   "execution_count": null,
   "metadata": {},
   "outputs": [],
   "source": [
    "def get_filename_of_ipynb():\n",
    "    from IPython import get_ipython\n",
    "    import os\n",
    "\n",
    "    ip = get_ipython()\n",
    "    path = \"\"\n",
    "    if \"__vsc_ipynb_file__\" in ip.user_ns:\n",
    "        path = ip.user_ns[\"__vsc_ipynb_file__\"]\n",
    "\n",
    "    return \".\".join(os.path.basename(path).split(\".\")[:-1])"
   ]
  }
 ],
 "metadata": {
  "language_info": {
   "name": "python"
  }
 },
 "nbformat": 4,
 "nbformat_minor": 2
}
